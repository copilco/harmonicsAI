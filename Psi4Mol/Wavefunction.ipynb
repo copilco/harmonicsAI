{
 "cells": [
  {
   "cell_type": "code",
   "execution_count": 5,
   "metadata": {},
   "outputs": [
    {
     "name": "stdout",
     "output_type": "stream",
     "text": [
      "Calculated Energy: -38.78870872298199\n"
     ]
    }
   ],
   "source": [
    "import os\n",
    "import numpy as np\n",
    "import psi4\n",
    "import py3Dmol\n",
    "\n",
    "# Function to read the XYZ file\n",
    "def read_xyz(file_path):\n",
    "    with open(file_path, 'r') as file:\n",
    "        return file.read()\n",
    "    \n",
    "# Function to visualize and save molecular orbitals\n",
    "def save_orbital_images(mol, wfn, folder):\n",
    "    psi4.set_options({'cubeprop_tasks': ['orbitals']})\n",
    "    psi4.cubeprop(wfn)\n",
    "    # Save images for a few orbitals (can be adjusted as needed)\n",
    "    for i in range(1, 6):\n",
    "        view = py3Dmol.view(width=400, height=300)\n",
    "        cube_file = os.path.join(psi4.core.IOManager.shared_object().get_default_path(), f'Psi_a_{i}_1-A.cube')\n",
    "        if os.path.exists(cube_file):\n",
    "            with open(cube_file, 'r') as cube:\n",
    "                view.addModel(cube.read(), 'cube', {'colorscheme':'greenRed'})\n",
    "            view.setStyle({'stick': {}})\n",
    "            view.zoomTo()\n",
    "            view.render()\n",
    "            view.png(os.path.join(folder, f'orbital_{i}.png'))\n",
    "\n",
    "\n",
    "# Main Program\n",
    "file_name = '../QM7database/qm7_xyz/molecule_0.xyz'\n",
    "folder_name = 'molecule_3_results'\n",
    "os.makedirs(folder_name, exist_ok=True)\n",
    "\n",
    "# Read the XYZ file\n",
    "xyz_data = read_xyz(file_name)\n",
    "\n",
    "# Psi4 setup\n",
    "output_file_path = os.path.join(folder_name, 'output.dat')\n",
    "psi4.core.set_output_file(output_file_path)\n",
    "mol = psi4.geometry(xyz_data)\n",
    "psi4.set_options({'basis': 'STO-3G'})  # Using STO-3G basis set\n",
    "\n",
    "# Perform the energy calculation and get wavefunction\n",
    "energy, wfn = psi4.energy('scf', return_wfn=True)\n",
    "\n",
    "# Save energy result\n",
    "with open(os.path.join(folder_name, 'results.txt'), 'w') as f:\n",
    "    f.write(f'Energy: {energy}\\n')\n",
    "    f.write(f'Wavefunction: {wfn}\\n')\n",
    "\n",
    "\n",
    "# Save orbital images\n",
    "save_orbital_images(mol, wfn, folder_name)\n",
    "\n",
    "print(f\"Calculated Energy: {energy}\")\n",
    "\n",
    "\n",
    "\n",
    "\n",
    "\n",
    "\n"
   ]
  },
  {
   "cell_type": "code",
   "execution_count": null,
   "metadata": {},
   "outputs": [],
   "source": []
  }
 ],
 "metadata": {
  "kernelspec": {
   "display_name": "p4env",
   "language": "python",
   "name": "python3"
  },
  "language_info": {
   "codemirror_mode": {
    "name": "ipython",
    "version": 3
   },
   "file_extension": ".py",
   "mimetype": "text/x-python",
   "name": "python",
   "nbconvert_exporter": "python",
   "pygments_lexer": "ipython3",
   "version": "3.12.0"
  }
 },
 "nbformat": 4,
 "nbformat_minor": 2
}
